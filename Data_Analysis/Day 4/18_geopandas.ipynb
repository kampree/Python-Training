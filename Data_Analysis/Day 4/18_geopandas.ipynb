{
  "cells": [
    {
      "cell_type": "markdown",
      "metadata": {
        "id": "rdKxZeaunyh7"
      },
      "source": [
        "# Introduction to Geopandas"
      ]
    },
    {
      "cell_type": "markdown",
      "metadata": {
        "id": "ZO9JDyQHoRin"
      },
      "source": [
        "In this tutorial part, we will learn the basics of loading and processing geographic data using Geopandas. Geopandas is built on top of Pandas and Numpy libraries. Like Pandas Dataframe, Geopandas data structure contains GeodataFrame and GeoSeries. Geopandas provides not only the capability to read and manipulate geographic data easily but also can perform many essential geospatial operations including among others geometric operations and projections which it borrows from the Shapely library.\n",
        "\n",
        "You can visualize and plot maps with Geopandas (provides a high-level interface to Matplotlib library) by using the plot() method on GeodataFrame/GeoSeries. In the first section, we will learn about geographic data, geographic coordinates and loading/writing geospatial data."
      ]
    },
    {
      "cell_type": "markdown",
      "metadata": {
        "id": "ODZT0fMj7kMv"
      },
      "source": [
        "## Learning Objectives\n",
        "1.   Read and write geographic data in Geopandas\n",
        "2.   Read csv files and convert into Geopandas Geodataframe\n",
        "3. Project and set Coordinate Reference Systems (CRS).\n",
        "\n"
      ]
    },
    {
      "cell_type": "markdown",
      "metadata": {
        "id": "y6fM5xb4nrIf"
      },
      "source": [
        "## Setup"
      ]
    },
    {
      "cell_type": "markdown",
      "metadata": {
        "id": "_tVnmIAbpKB0"
      },
      "source": [
        "Make sure you run the following cell(s) before trying to run any the following cells. You do not need to understand what they are doing, it's just a way to make sure there is a file we want to use stored on the computer running this notebook."
      ]
    },
    {
      "cell_type": "code",
      "execution_count": 1,
      "metadata": {
        "id": "ghnudyTnENkz"
      },
      "outputs": [],
      "source": [
        "# Run only once\n",
        "!mkdir countries_data"
      ]
    },
    {
      "cell_type": "code",
      "execution_count": null,
      "metadata": {
        "colab": {
          "base_uri": "https://localhost:8080/"
        },
        "id": "qjTRO67RBzUC",
        "outputId": "80f91150-fd79-4778-e48b-f3e2b7d532e4"
      },
      "outputs": [],
      "source": [
        "# Run only once\n",
        "\n",
        "%%time\n",
        "\n",
        "import requests\n",
        "\n",
        "\n",
        "def save_file(url, file_name):\n",
        "  r = requests.get(url)\n",
        "  with open(file_name, 'wb') as f:\n",
        "    f.write(r.content)\n",
        "\n",
        "# Download & save countries data in Shapefiles format     \n",
        "# Source: https://www.naturalearthdata.com/downloads/110m-cultural-vectors/110m-admin-0-countries/\n",
        "!wget https://www.naturalearthdata.com/http//www.naturalearthdata.com/download/110m/cultural/ne_110m_admin_0_countries.zip\n",
        "\n",
        "# Download & save main cities data in GeoJSON format\n",
        "# Source: http://geojson.xyz/ \n",
        "save_file('https://d2ad6b4ur7yvpq.cloudfront.net/naturalearth-3.3.0/ne_50m_populated_places_simple.geojson', \n",
        "          'ne_50m_populated_places_simple.geojson') \n",
        "\n",
        "# Download & save US states data in json format  \n",
        "save_file('https://courses.cs.washington.edu/courses/cse163/21wi/' +\n",
        "          'files/lectures/05-13/gz_2010_us_040_00_5m.json', \n",
        "          'gz_2010_us_040_00_5m.json')\n",
        "\n",
        "# Download & save Hurricane Florence data\n",
        "save_file('https://courses.cs.washington.edu/courses/cse163/21wi/' +\n",
        "          'files/lectures/05-13/stormhistory.csv', 'stormhistory.csv')\n",
        "\n",
        "\n",
        "!unzip ne_110m_admin_0_countries.zip -d countries_data"
      ]
    },
    {
      "cell_type": "markdown",
      "metadata": {
        "id": "z-8pra5jFr-h"
      },
      "source": [
        "List files"
      ]
    },
    {
      "cell_type": "code",
      "execution_count": null,
      "metadata": {
        "colab": {
          "base_uri": "https://localhost:8080/"
        },
        "id": "_OA145dtFc5q",
        "outputId": "d6622c0a-7e2f-4daf-f282-d546520ec959"
      },
      "outputs": [],
      "source": [
        "!ls"
      ]
    },
    {
      "cell_type": "code",
      "execution_count": null,
      "metadata": {
        "colab": {
          "base_uri": "https://localhost:8080/"
        },
        "id": "l-YIOz-rpBkY",
        "outputId": "e30a6d74-3af4-423e-aedc-92a6dd417a7a"
      },
      "outputs": [],
      "source": [
        "# Run only once\n",
        "\n",
        "#!pip install --upgrade pyshp\n",
        "\n",
        "# Required Dependencies\n",
        "# numpy, pandas (already installed in Colab)\n",
        "# shapely (interface to GEOS)\n",
        "!pip install --upgrade shapely\n",
        "\n",
        "# fiona (interface to GDAL)\n",
        "!pip install --upgrade fiona\n",
        "\n",
        "# pyproj (interface to PROJ)\n",
        "!pip install --upgrade pyproj\n",
        "\n",
        "# rtree (spatial index to improve performance & required for overlay operations)\n",
        "!pip install --upgrade rtree\n",
        "\n",
        "# Install geopandas\n",
        "!pip install --upgrade geopandas\n",
        "\n",
        "# Geopandas requirement\n",
        "!pip install --upgrade descartes\n"
      ]
    },
    {
      "cell_type": "code",
      "execution_count": null,
      "metadata": {
        "id": "JH4XOEopYH5H"
      },
      "outputs": [],
      "source": [
        "# Make plot output stored in notebook\n",
        "%matplotlib inline \n",
        "import numpy as np\n",
        "import matplotlib.pyplot as plt\n"
      ]
    },
    {
      "cell_type": "markdown",
      "metadata": {
        "id": "Kty6domA7fPO"
      },
      "source": [
        "# 1. Reading Geograpahic data"
      ]
    },
    {
      "cell_type": "code",
      "execution_count": null,
      "metadata": {
        "colab": {
          "base_uri": "https://localhost:8080/"
        },
        "id": "96T5jisU9AVa",
        "outputId": "7a2fb30f-00ee-47db-af99-e2e7d5ea03c0"
      },
      "outputs": [
        {
          "name": "stdout",
          "output_type": "stream",
          "text": [
            "ne_110m_admin_0_countries.cpg\t       ne_110m_admin_0_countries.shp\n",
            "ne_110m_admin_0_countries.dbf\t       ne_110m_admin_0_countries.shx\n",
            "ne_110m_admin_0_countries.prj\t       ne_110m_admin_0_countries.VERSION.txt\n",
            "ne_110m_admin_0_countries.README.html\n"
          ]
        }
      ],
      "source": [
        "# Look inside data folder that we have unzipped it\n",
        "!ls countries_data"
      ]
    },
    {
      "cell_type": "markdown",
      "metadata": {
        "id": "Eu67idOB8Xed"
      },
      "source": [
        "Geographic data (Vector) comes in different formats (Shapefiles, Geopackage, Geojson ...etc).  \n",
        "We can read a `GeoDataFrame` from a file using `read_file`."
      ]
    },
    {
      "cell_type": "code",
      "execution_count": null,
      "metadata": {
        "colab": {
          "base_uri": "https://localhost:8080/"
        },
        "id": "h998MVgnbcJE",
        "outputId": "10b21640-8346-4c6f-b780-3ce06e498e23"
      },
      "outputs": [],
      "source": []
    },
    {
      "cell_type": "markdown",
      "metadata": {
        "id": "cvWzfOkCGOsK"
      },
      "source": [
        "## Countries Data"
      ]
    },
    {
      "cell_type": "code",
      "execution_count": null,
      "metadata": {
        "colab": {
          "base_uri": "https://localhost:8080/",
          "height": 595
        },
        "id": "jLJ7PKGE7-OD",
        "outputId": "c263c6f0-ee37-44bb-b524-84d4964349ee"
      },
      "outputs": [],
      "source": [
        "# Read Countries data\n",
        "\n"
      ]
    },
    {
      "cell_type": "code",
      "execution_count": null,
      "metadata": {
        "colab": {
          "base_uri": "https://localhost:8080/"
        },
        "id": "ssrc-hcw8xUZ",
        "outputId": "f046c014-547e-425c-b771-b49dd84baddb"
      },
      "outputs": [],
      "source": [
        "# Rows and columns of the countries data\n"
      ]
    },
    {
      "cell_type": "code",
      "execution_count": null,
      "metadata": {
        "colab": {
          "base_uri": "https://localhost:8080/",
          "height": 394
        },
        "id": "N-Ll_g0y9cT5",
        "outputId": "3dbdfce2-0d49-47dd-dc49-ea86230b2c3e"
      },
      "outputs": [],
      "source": [
        "# Describtive statistics of the countries data\n"
      ]
    },
    {
      "cell_type": "code",
      "execution_count": null,
      "metadata": {
        "colab": {
          "base_uri": "https://localhost:8080/"
        },
        "id": "_Gew689LPFsV",
        "outputId": "19fe6982-9d10-45ea-ab07-03ba35ccf04d"
      },
      "outputs": [],
      "source": []
    },
    {
      "cell_type": "code",
      "execution_count": null,
      "metadata": {
        "colab": {
          "base_uri": "https://localhost:8080/"
        },
        "id": "Z3tR92EVGJiI",
        "outputId": "1bc2e6b7-8f81-49ab-8987-36df088c3817"
      },
      "outputs": [],
      "source": []
    },
    {
      "cell_type": "markdown",
      "metadata": {
        "id": "5Ou6Hbv2KtF8"
      },
      "source": [
        "Geopandas is built on top of Matplotlib and Descartes to visualize maps easily. We can use `plot()` method to easily plot a map."
      ]
    },
    {
      "cell_type": "code",
      "execution_count": null,
      "metadata": {
        "colab": {
          "base_uri": "https://localhost:8080/",
          "height": 445
        },
        "id": "vjv6ga-_GkVU",
        "outputId": "e976ad30-22ae-4928-ee01-b49f9b7255a3"
      },
      "outputs": [],
      "source": []
    },
    {
      "cell_type": "code",
      "execution_count": null,
      "metadata": {
        "colab": {
          "base_uri": "https://localhost:8080/",
          "height": 439
        },
        "id": "TPvl5MmjPRKb",
        "outputId": "70c52084-8c10-4b2f-b123-bec8da039715"
      },
      "outputs": [],
      "source": [
        "#Plot Population estimates using Choropleth Map (color of each shapes is based on the value of an associated variable)\n"
      ]
    },
    {
      "cell_type": "markdown",
      "metadata": {
        "id": "aCYKlEwrRYL7"
      },
      "source": [
        "However, the default appearance of the legend and plot axes may not be desirable. One can define the plot axes (with `ax`) and the legend axes (with `cax`) and then pass those in to the `plot()` call. The following example uses `mpl_toolkits` to vertically align the plot axes and the legend axes:"
      ]
    },
    {
      "cell_type": "code",
      "execution_count": null,
      "metadata": {
        "colab": {
          "base_uri": "https://localhost:8080/",
          "height": 456
        },
        "id": "Xq1dSeKORAzB",
        "outputId": "7c10aa42-88c1-4aba-e76a-54a83e2baf3c"
      },
      "outputs": [],
      "source": [
        "#Plot population estimates with an accurate legend\n"
      ]
    },
    {
      "cell_type": "code",
      "execution_count": null,
      "metadata": {
        "colab": {
          "base_uri": "https://localhost:8080/",
          "height": 459
        },
        "id": "KTMoRlbGSZVR",
        "outputId": "420e6adb-bab4-4c3d-ce01-80fdfe08709b"
      },
      "outputs": [],
      "source": [
        "#Plot population estimates with an accurate horizontal legend\n"
      ]
    },
    {
      "cell_type": "markdown",
      "metadata": {
        "id": "YElUtu_4a21o"
      },
      "source": [
        "You can also modify the colors used by plot() with the cmap option (for a full list of colormaps, see the [matplotlib website](https://matplotlib.org/stable/tutorials/colors/colormaps.html)):"
      ]
    },
    {
      "cell_type": "code",
      "execution_count": null,
      "metadata": {
        "colab": {
          "base_uri": "https://localhost:8080/",
          "height": 439
        },
        "id": "yv6i7ZnNaX8U",
        "outputId": "07b4c4b9-eecb-4e1b-bf63-e6fa99d1b4c9"
      },
      "outputs": [],
      "source": []
    },
    {
      "cell_type": "markdown",
      "metadata": {
        "id": "Oj04RitibFI4"
      },
      "source": [
        "If you want to show just the boundary, use `boundary.plot()`"
      ]
    },
    {
      "cell_type": "code",
      "execution_count": null,
      "metadata": {
        "colab": {
          "base_uri": "https://localhost:8080/",
          "height": 445
        },
        "id": "Br6NXMEWbORg",
        "outputId": "b52ad2ba-688b-4f30-bc23-8bc600a0c15e"
      },
      "outputs": [],
      "source": []
    },
    {
      "cell_type": "markdown",
      "metadata": {
        "id": "Of0tYLZ9biEl"
      },
      "source": [
        "Maps usually do not have to have axis labels. You can turn them off using `set_axis_off()` or `axis(\"off\")` axis methods."
      ]
    },
    {
      "cell_type": "code",
      "execution_count": null,
      "metadata": {
        "colab": {
          "base_uri": "https://localhost:8080/",
          "height": 411
        },
        "id": "pK2zrfvUbnjY",
        "outputId": "f5f97deb-b0cc-4c82-af0a-27a6c2f9f380"
      },
      "outputs": [],
      "source": []
    },
    {
      "cell_type": "markdown",
      "metadata": {
        "id": "268dNzynb60A"
      },
      "source": [
        "You can remove Antarctica continent"
      ]
    },
    {
      "cell_type": "code",
      "execution_count": null,
      "metadata": {
        "colab": {
          "base_uri": "https://localhost:8080/",
          "height": 382
        },
        "id": "gZUS3xwCcAgD",
        "outputId": "6677883d-9da3-4e82-fce6-56cc4ab635b8"
      },
      "outputs": [],
      "source": []
    },
    {
      "cell_type": "markdown",
      "metadata": {
        "id": "XGZILqI8ruKO"
      },
      "source": [
        "You can use similar pandas functionality, like basic stats and filterings"
      ]
    },
    {
      "cell_type": "code",
      "execution_count": null,
      "metadata": {
        "colab": {
          "base_uri": "https://localhost:8080/"
        },
        "id": "dyy_AsTYrsw1",
        "outputId": "99e1e46f-e1a7-456c-f9f4-4f7adffa6285"
      },
      "outputs": [],
      "source": []
    },
    {
      "cell_type": "markdown",
      "metadata": {
        "id": "V8E1LsWIHVWO"
      },
      "source": [
        "Note: GDP values have been updated to 2016/2017 vintage (primarily from CIA World Factbook)"
      ]
    },
    {
      "cell_type": "markdown",
      "metadata": {
        "id": "wUyhZRre_ezg"
      },
      "source": [
        "Let's see if we can plot \"low populated and rich\" countries \n",
        "Criteria\n",
        "\n",
        "*   GDP > 500,000 Million USD \n",
        "*   Population < 40 million people\n",
        "\n",
        "\n"
      ]
    },
    {
      "cell_type": "code",
      "execution_count": null,
      "metadata": {
        "colab": {
          "base_uri": "https://localhost:8080/",
          "height": 439
        },
        "id": "De3jxsX-_mwo",
        "outputId": "49a2db35-c9c2-42c5-dbba-56b4cdf3a276"
      },
      "outputs": [],
      "source": []
    },
    {
      "cell_type": "markdown",
      "metadata": {
        "id": "WYOdNzUcr5yG"
      },
      "source": [
        "Filter the data to rows that belong in Asia, then plot that"
      ]
    },
    {
      "cell_type": "code",
      "execution_count": null,
      "metadata": {
        "colab": {
          "base_uri": "https://localhost:8080/"
        },
        "id": "xo2xDuERr_QY",
        "outputId": "57c7a37f-2043-4766-b558-75604bc3d357"
      },
      "outputs": [],
      "source": []
    },
    {
      "cell_type": "code",
      "execution_count": null,
      "metadata": {
        "colab": {
          "base_uri": "https://localhost:8080/",
          "height": 456
        },
        "id": "F1-uf40LsYrK",
        "outputId": "ebf7aa0a-a159-49e9-ff24-cbf8dd143444"
      },
      "outputs": [],
      "source": []
    },
    {
      "cell_type": "markdown",
      "metadata": {
        "id": "s9qtt7vO_JbI"
      },
      "source": [
        "We can clearly see that China has the largest population."
      ]
    },
    {
      "cell_type": "markdown",
      "metadata": {
        "id": "CXo7QU72GRgr"
      },
      "source": [
        "## Cities Data"
      ]
    },
    {
      "cell_type": "code",
      "execution_count": null,
      "metadata": {
        "colab": {
          "base_uri": "https://localhost:8080/",
          "height": 206
        },
        "id": "sbzUj8ZH9gLn",
        "outputId": "b71441f0-f66f-4fad-d691-45429fbefb50"
      },
      "outputs": [],
      "source": [
        "# Read Cities data\n",
        "\n",
        "\n",
        "# Alternative dataset included in Geopandas libary\n"
      ]
    },
    {
      "cell_type": "code",
      "execution_count": null,
      "metadata": {
        "colab": {
          "base_uri": "https://localhost:8080/"
        },
        "id": "z0LZ5_pUGaUc",
        "outputId": "7d5f56f5-a654-43b6-eb9e-6abce0e00648"
      },
      "outputs": [],
      "source": [
        "# Rows and columns of the cities data\n"
      ]
    },
    {
      "cell_type": "code",
      "execution_count": null,
      "metadata": {
        "colab": {
          "base_uri": "https://localhost:8080/",
          "height": 230
        },
        "id": "VKvP6dxwGgUi",
        "outputId": "4b3747d5-6765-423f-9bbe-6a47309bd394"
      },
      "outputs": [],
      "source": [
        "# Describtive statistics of the cities data\n"
      ]
    },
    {
      "cell_type": "code",
      "execution_count": null,
      "metadata": {
        "colab": {
          "base_uri": "https://localhost:8080/"
        },
        "id": "3Og_LNwmYnJS",
        "outputId": "15477c7a-739b-48e8-9a10-b43dda49e745"
      },
      "outputs": [],
      "source": []
    },
    {
      "cell_type": "markdown",
      "metadata": {
        "id": "Sq38M35P9rXT"
      },
      "source": [
        "Now we can plot cites data points on world map (countries data), we call this \"overlaying\"."
      ]
    },
    {
      "cell_type": "code",
      "execution_count": null,
      "metadata": {
        "colab": {
          "base_uri": "https://localhost:8080/",
          "height": 555
        },
        "id": "bgub4CzJ94vP",
        "outputId": "e9343125-95e1-472f-c149-a428e88e41b8"
      },
      "outputs": [],
      "source": [
        "# Plot overlayed maps\n",
        "\n",
        "# Automatically adjusts subplot params so that the subplot(s) fits in to the figure area.\n",
        "\n",
        "#Save plot as png file\n"
      ]
    },
    {
      "cell_type": "markdown",
      "metadata": {
        "id": "2zBIE0ceIxT9"
      },
      "source": [
        "Back to low population and rich countries data, we can also overlay them over a world map"
      ]
    },
    {
      "cell_type": "code",
      "execution_count": null,
      "metadata": {
        "colab": {
          "base_uri": "https://localhost:8080/",
          "height": 439
        },
        "id": "hDmKl716-m76",
        "outputId": "4ebf79f5-a8ca-4798-99b3-570a9865f021"
      },
      "outputs": [],
      "source": []
    },
    {
      "cell_type": "markdown",
      "metadata": {
        "id": "WRZMz6T6RaCS"
      },
      "source": [
        "# 2. Coordinate Systems and Projections\n",
        "\n",
        "Coordinate reference systems represent how our data as two dimensional (planar) relates to actual places on earth. It is the glue that holds the attributes to their respective locations. Geometric shapes in a GeoSeries or GeoDataFrame object are simply a collection of coordinates in an arbitrary space. Geodataframes has `.crs` attribute that can give you the original CRS used in the data. A CRS tells Python how those coordinates relate to places on the Earth.\n",
        "\n",
        "It is easy to transform and project these coordinates. However, to perform projections, it is necessary to have the same CRS in order to carry out geographic analysis and get the right values out the analysis. The countries, cities and rivers have the same CRS. Let's check them."
      ]
    },
    {
      "cell_type": "code",
      "execution_count": null,
      "metadata": {
        "colab": {
          "base_uri": "https://localhost:8080/",
          "height": 595
        },
        "id": "XzR0sZeqJDug",
        "outputId": "fbdf3628-88e4-4c87-fc57-c7d8232915e5"
      },
      "outputs": [],
      "source": []
    },
    {
      "cell_type": "code",
      "execution_count": null,
      "metadata": {
        "colab": {
          "base_uri": "https://localhost:8080/"
        },
        "id": "7qmCkLLXRohP",
        "outputId": "5fabf253-3011-4ecd-838b-896777870bed"
      },
      "outputs": [],
      "source": []
    },
    {
      "cell_type": "code",
      "execution_count": null,
      "metadata": {
        "colab": {
          "base_uri": "https://localhost:8080/"
        },
        "id": "vKaje7NQRsW9",
        "outputId": "bb8d11b8-7e90-4005-fd79-8891f72cd51f"
      },
      "outputs": [],
      "source": []
    },
    {
      "cell_type": "markdown",
      "metadata": {
        "id": "Hkb4nS4RggZ4"
      },
      "source": [
        "Projections are referenced using **European Petroleum Survey Group (EPSG)** codes"
      ]
    },
    {
      "cell_type": "markdown",
      "metadata": {
        "id": "RG7MA-VuSOM0"
      },
      "source": [
        "Different CRS have different measurements. For some, the coordinates are defined in decimal degrees while others are defined in meters. It is common process to reproject data from one format to another in Geographic data processing. This source is very useful in visualizing and comparing different Projections: https://map-projections.net/compare.php?p1=mercator-84&p2=robinson&sps=1"
      ]
    },
    {
      "cell_type": "markdown",
      "metadata": {
        "id": "YpzL6TcEhRUu"
      },
      "source": [
        "## Project into Mercator Projection"
      ]
    },
    {
      "cell_type": "markdown",
      "metadata": {
        "id": "Ya1ptO0iSRk4"
      },
      "source": [
        "We will project our data into mercator. The Mercator projection, latitude-longitude quadrangles are stretched along the x-axis and y-axis as you move away from the equator."
      ]
    },
    {
      "cell_type": "code",
      "execution_count": null,
      "metadata": {
        "colab": {
          "base_uri": "https://localhost:8080/"
        },
        "id": "ZFjjwBeoRtzz",
        "outputId": "27b60f4d-b0f0-4993-945b-655a0d4b604c"
      },
      "outputs": [],
      "source": [
        "# Look at the geometry column: decimal degrees\n"
      ]
    },
    {
      "cell_type": "code",
      "execution_count": null,
      "metadata": {
        "colab": {
          "base_uri": "https://localhost:8080/"
        },
        "id": "8zMI-ElTSWsf",
        "outputId": "3264ecc3-e485-4abf-fb6b-089e7d485144"
      },
      "outputs": [],
      "source": [
        "# Project the data into Mercator Projection epsg=3395\n",
        "\n",
        "\n",
        "# See the geometry column of the projected countries\n"
      ]
    },
    {
      "cell_type": "markdown",
      "metadata": {
        "id": "N8NFZaM4Ti75"
      },
      "source": [
        "Due to the projection, the geometry is no longer in lat/lon style. It is easier to understand the difference in maps. Let us plot both the original countries and the projected countries."
      ]
    },
    {
      "cell_type": "code",
      "execution_count": null,
      "metadata": {
        "colab": {
          "base_uri": "https://localhost:8080/",
          "height": 398
        },
        "id": "egSYLFz6S52U",
        "outputId": "14bf9388-bbbb-4203-97d9-b1ab26619802"
      },
      "outputs": [],
      "source": [
        "# Let us plot both unprojected and projected countries\n"
      ]
    },
    {
      "cell_type": "code",
      "execution_count": null,
      "metadata": {
        "colab": {
          "base_uri": "https://localhost:8080/",
          "height": 617
        },
        "id": "FaHBkHzKTtNZ",
        "outputId": "46deae50-fa20-410e-fcbe-c6b0c8e9884e"
      },
      "outputs": [],
      "source": []
    },
    {
      "cell_type": "markdown",
      "metadata": {
        "id": "FsRZzlSXUD9_"
      },
      "source": [
        "Notice the different scales of x and y in both maps. If you try to overlay the projected data with unprojected data, then your data will not align properly. Let us see if we can plot cities on the top of projected countries. Remember we have not projected the cities."
      ]
    },
    {
      "cell_type": "code",
      "execution_count": null,
      "metadata": {
        "colab": {
          "base_uri": "https://localhost:8080/",
          "height": 623
        },
        "id": "9j8z4xmmTv0_",
        "outputId": "fdc10d52-a5ef-470d-a70d-104092b3d7c9"
      },
      "outputs": [],
      "source": [
        "\n",
        "# Cities are still in WGS84\n"
      ]
    },
    {
      "cell_type": "markdown",
      "metadata": {
        "id": "rW3YyvWkUP1G"
      },
      "source": [
        "## **Exercise 1**: Convert the cities data into EPSG:3395 and plot cities on top of countries_projected"
      ]
    },
    {
      "cell_type": "code",
      "execution_count": null,
      "metadata": {
        "colab": {
          "base_uri": "https://localhost:8080/",
          "height": 612
        },
        "id": "_x4irI1oYJ2w",
        "outputId": "8cbe6d5e-150a-4dfa-fd1d-e3ff3a003b1d"
      },
      "outputs": [
        {
          "data": {
            "image/png": "[encoded data removed]",
            "text/plain": [
              "<Figure size 1080x864 with 1 Axes>"
            ]
          },
          "metadata": {
            "needs_background": "light"
          },
          "output_type": "display_data"
        }
      ],
      "source": []
    },
    {
      "cell_type": "markdown",
      "metadata": {
        "id": "b8QS2x6nWeKN"
      },
      "source": [
        "# 3. Writing Geographic/Spatial Data\n",
        "\n",
        "We can easily save any new data created to our local disk. This is helpful when you want to access that file in another time without carrying out the same operations again. Let us save our projected countries to our disk space. Remember we have projected it. So in case we need it another time, let us save it.\n",
        "\n",
        "GeoDataFrames can be exported to many different standard formats using the `to_file(path/to/file + extension)`"
      ]
    },
    {
      "cell_type": "code",
      "execution_count": null,
      "metadata": {
        "colab": {
          "base_uri": "https://localhost:8080/"
        },
        "id": "NRvalB3bbv4U",
        "outputId": "016059b4-850f-44a8-c250-ba53e90789ae"
      },
      "outputs": [],
      "source": []
    },
    {
      "cell_type": "code",
      "execution_count": null,
      "metadata": {
        "colab": {
          "base_uri": "https://localhost:8080/"
        },
        "id": "0GY7gk1BUZFK",
        "outputId": "2d24c0c3-6af4-41db-c618-2e83ad374656"
      },
      "outputs": [],
      "source": []
    },
    {
      "cell_type": "code",
      "execution_count": null,
      "metadata": {
        "id": "0RDyNuSiXEQ5"
      },
      "outputs": [],
      "source": [
        "!mkdir countries_projected_data"
      ]
    },
    {
      "cell_type": "code",
      "execution_count": null,
      "metadata": {
        "id": "j5sCujbYWryi"
      },
      "outputs": [],
      "source": [
        "# Save projected countries to Shapefile\n"
      ]
    },
    {
      "cell_type": "code",
      "execution_count": null,
      "metadata": {
        "id": "EDncBLhXb3fo"
      },
      "outputs": [],
      "source": [
        "# Save projected countries to GeoJSON\n"
      ]
    },
    {
      "cell_type": "markdown",
      "metadata": {
        "id": "59MYRjHuXK-U"
      },
      "source": [
        "## **Exercise 2**: Save the projected cities file you created in Exercise 1 into a shp file."
      ]
    },
    {
      "cell_type": "code",
      "execution_count": null,
      "metadata": {
        "id": "mkCWeEEfaPYB"
      },
      "outputs": [],
      "source": [
        "!mkdir cities_projected_data"
      ]
    },
    {
      "cell_type": "code",
      "execution_count": null,
      "metadata": {
        "id": "ZuAfcmozXBN9"
      },
      "outputs": [],
      "source": []
    },
    {
      "cell_type": "markdown",
      "metadata": {
        "id": "Bi1ffzOVduK8"
      },
      "source": [
        "# 4. Convert DataFrame to a GeodataFrame"
      ]
    },
    {
      "cell_type": "markdown",
      "metadata": {
        "id": "ku9w08zReLDP"
      },
      "source": [
        "In certain circumstance, a dataset might store geodata in a dataframe format.\n",
        "\n",
        "This example will plot the data of the hurricane at various points in time over US states."
      ]
    },
    {
      "cell_type": "code",
      "execution_count": null,
      "metadata": {
        "colab": {
          "base_uri": "https://localhost:8080/",
          "height": 240
        },
        "id": "0GzStE4wa775",
        "outputId": "7e555edc-bf68-44fd-acc8-cd1dabcc2de2"
      },
      "outputs": [],
      "source": []
    },
    {
      "cell_type": "markdown",
      "metadata": {
        "id": "gRP2AVceevv1"
      },
      "source": [
        "Hawaii is on the far right and Alaska is on the top left, we should exclude them to filter only mainland USA."
      ]
    },
    {
      "cell_type": "code",
      "execution_count": null,
      "metadata": {
        "colab": {
          "base_uri": "https://localhost:8080/",
          "height": 445
        },
        "id": "UWBQFBdHenr0",
        "outputId": "12d2c940-8c40-43b9-f84d-de3ece627be3"
      },
      "outputs": [],
      "source": []
    },
    {
      "cell_type": "code",
      "execution_count": null,
      "metadata": {
        "colab": {
          "base_uri": "https://localhost:8080/",
          "height": 206
        },
        "id": "jDQo8f3Ze5uR",
        "outputId": "0b1b340d-2a3e-4d9f-efea-c335adcb1a01"
      },
      "outputs": [],
      "source": []
    },
    {
      "cell_type": "code",
      "execution_count": null,
      "metadata": {
        "colab": {
          "base_uri": "https://localhost:8080/",
          "height": 282
        },
        "id": "NfE55yBIfC7m",
        "outputId": "8af92a1d-10b6-4014-f8eb-58ad6d30da81"
      },
      "outputs": [],
      "source": []
    },
    {
      "cell_type": "markdown",
      "metadata": {
        "id": "mR4OjotnfKh8"
      },
      "source": [
        "We noticed that this is a plain old DataFrame and does not have the capability of doing geo operations yet. We first have to transform the data into a `GeoDataFrame` so we can plot it appropriately.\n",
        "\n",
        "To do this, we will create a new colum that stores the latitude/longitude together in a `Point`. We need to use the `zip` function to do this."
      ]
    },
    {
      "cell_type": "code",
      "execution_count": null,
      "metadata": {
        "colab": {
          "base_uri": "https://localhost:8080/"
        },
        "id": "da7rixlFfH1s",
        "outputId": "c90f3fb6-dad7-4da1-ce9e-b488805a22de"
      },
      "outputs": [],
      "source": []
    },
    {
      "cell_type": "code",
      "execution_count": null,
      "metadata": {
        "colab": {
          "base_uri": "https://localhost:8080/"
        },
        "id": "ecsLZ7m3fToM",
        "outputId": "e65cc765-d2d7-47fb-980d-0455a3d26f6e"
      },
      "outputs": [],
      "source": []
    },
    {
      "cell_type": "code",
      "execution_count": null,
      "metadata": {
        "colab": {
          "base_uri": "https://localhost:8080/"
        },
        "id": "B68VfjMpfVLQ",
        "outputId": "6f8ab3ce-7650-474f-8ab6-7fe6d88d4480"
      },
      "outputs": [],
      "source": []
    },
    {
      "cell_type": "code",
      "execution_count": null,
      "metadata": {
        "id": "_3qVeSwZfgQV"
      },
      "outputs": [],
      "source": [
        "# Convert the florence DataFrame into a GeoDataFrame\n"
      ]
    },
    {
      "cell_type": "code",
      "execution_count": null,
      "metadata": {
        "colab": {
          "base_uri": "https://localhost:8080/",
          "height": 219
        },
        "id": "0UFeGwwwfl71",
        "outputId": "13321596-c59d-4ea7-f799-fd519b67b4f9"
      },
      "outputs": [],
      "source": []
    },
    {
      "cell_type": "code",
      "execution_count": null,
      "metadata": {
        "colab": {
          "base_uri": "https://localhost:8080/",
          "height": 352
        },
        "id": "vG_aKlj1fpHi",
        "outputId": "50e2c033-b9c2-49d6-a609-7bbefc9d2d00"
      },
      "outputs": [],
      "source": []
    },
    {
      "cell_type": "code",
      "execution_count": null,
      "metadata": {
        "id": "KtoGEuDGgWyT"
      },
      "outputs": [],
      "source": []
    }
  ],
  "metadata": {
    "colab": {
      "collapsed_sections": [],
      "provenance": [],
      "toc_visible": true
    },
    "kernelspec": {
      "display_name": "Python 3.10.2 64-bit",
      "language": "python",
      "name": "python3"
    },
    "language_info": {
      "codemirror_mode": {
        "name": "ipython",
        "version": 3
      },
      "file_extension": ".py",
      "mimetype": "text/x-python",
      "name": "python",
      "nbconvert_exporter": "python",
      "pygments_lexer": "ipython3",
      "version": "3.10.2"
    },
    "vscode": {
      "interpreter": {
        "hash": "c8ee9bec24facc2de079b55473a53094901a82ff33f3f26213e2d5fa5b2fdeee"
      }
    }
  },
  "nbformat": 4,
  "nbformat_minor": 0
}
